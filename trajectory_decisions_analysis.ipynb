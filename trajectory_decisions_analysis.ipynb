{
  "cells": [
    {
      "cell_type": "markdown",
      "metadata": {},
      "source": [
        "# Trajectory Decisions Analysis\n",
        "\n",
        "This notebook explores the `trajectory_decisions.csv` dataset and visualizes key patterns in driver decision-making."
      ]
    },
    {
      "cell_type": "code",
      "execution_count": null,
      "metadata": {},
      "outputs": [],
      "source": [
        "import pandas as pd\n",
        "import matplotlib.pyplot as plt\n",
        "import seaborn as sns\n",
        "\n",
        "sns.set_theme(style='whitegrid', context='notebook')\n",
        "\n",
        "df = pd.read_csv('trajectory_decisions.csv')\n",
        "df.head()"
      ]
    },
    {
      "cell_type": "markdown",
      "metadata": {},
      "source": [
        "## Dataset overview"
      ]
    },
    {
      "cell_type": "code",
      "execution_count": null,
      "metadata": {},
      "outputs": [],
      "source": [
        "df.info()"
      ]
    },
    {
      "cell_type": "code",
      "execution_count": null,
      "metadata": {},
      "outputs": [],
      "source": [
        "numeric_summary = df[['decision_time', 'trip_distance_to_stop_line', 'trip_v']].describe()\n",
        "numeric_summary"
      ]
    },
    {
      "cell_type": "code",
      "execution_count": null,
      "metadata": {},
      "outputs": [],
      "source": [
        "decision_counts = df['decision'].value_counts().rename({0: 'Stop', 1: 'Go'})\n",
        "decision_counts"
      ]
    },
    {
      "cell_type": "markdown",
      "metadata": {},
      "source": [
        "## Decision outcomes"
      ]
    },
    {
      "cell_type": "code",
      "execution_count": null,
      "metadata": {},
      "outputs": [],
      "source": [
        "plt.figure(figsize=(6, 4))\n",
        "sns.countplot(data=df, x='decision', palette='deep')\n",
        "plt.xticks([0, 1], ['Stop (0)', 'Go (1)'])\n",
        "plt.title('Decision outcome counts')\n",
        "plt.xlabel('Decision')\n",
        "plt.ylabel('Count')\n",
        "plt.tight_layout()"
      ]
    },
    {
      "cell_type": "code",
      "execution_count": null,
      "metadata": {},
      "outputs": [],
      "source": [
        "plt.figure(figsize=(7, 4))\n",
        "sns.boxplot(data=df, x='decision', y='decision_time', palette='deep')\n",
        "plt.xticks([0, 1], ['Stop (0)', 'Go (1)'])\n",
        "plt.title('Decision time distribution by outcome')\n",
        "plt.xlabel('Decision')\n",
        "plt.ylabel('Decision Time (seconds)')\n",
        "plt.tight_layout()"
      ]
    },
    {
      "cell_type": "markdown",
      "metadata": {},
      "source": [
        "## Speed and distance relationships"
      ]
    },
    {
      "cell_type": "code",
      "execution_count": null,
      "metadata": {},
      "outputs": [],
      "source": [
        "plt.figure(figsize=(6.5, 5))\n",
        "sns.scatterplot(data=df, x='trip_distance_to_stop_line', y='trip_v', hue='decision', palette='deep', alpha=0.7)\n",
        "plt.title('Vehicle speed vs. distance to stop line')\n",
        "plt.xlabel('Distance to Stop Line')\n",
        "plt.ylabel('Vehicle Speed')\n",
        "plt.legend(title='Decision', labels=['Stop (0)', 'Go (1)'])\n",
        "plt.tight_layout()"
      ]
    },
    {
      "cell_type": "code",
      "execution_count": null,
      "metadata": {},
      "outputs": [],
      "source": [
        "plt.figure(figsize=(6.5, 5))\n",
        "sns.kdeplot(data=df, x='trip_v', hue='decision', fill=True, common_norm=False, palette='deep', alpha=0.5)\n",
        "plt.title('Speed distributions by decision outcome')\n",
        "plt.xlabel('Vehicle Speed')\n",
        "plt.ylabel('Density')\n",
        "plt.legend(title='Decision', labels=['Stop (0)', 'Go (1)'])\n",
        "plt.tight_layout()"
      ]
    },
    {
      "cell_type": "markdown",
      "metadata": {},
      "source": [
        "## Driver-level patterns"
      ]
    },
    {
      "cell_type": "code",
      "execution_count": null,
      "metadata": {},
      "outputs": [],
      "source": [
        "driver_summary = (\n",
        "    df.groupby('driver_id')\n",
        "      .agg(total_decisions=('decision', 'size'),\n",
        "           go_rate=('decision', lambda x: (x == 1).mean()),\n",
        "           avg_decision_time=('decision_time', 'mean')))\n",
        "      .sort_values('total_decisions', ascending=False)\n",
        ")\n",
        "driver_summary.head()"
      ]
    },
    {
      "cell_type": "code",
      "execution_count": null,
      "metadata": {},
      "outputs": [],
      "source": [
        "top_drivers = driver_summary.head(10).reset_index()\n",
        "plt.figure(figsize=(7, 5))\n",
        "sns.barplot(data=top_drivers, x='go_rate', y='driver_id', palette='deep')\n",
        "plt.title('Go decision rate for top 10 active drivers')\n",
        "plt.xlabel('Go Decision Rate')\n",
        "plt.ylabel('Driver ID')\n",
        "plt.xlim(0, 1)\n",
        "plt.tight_layout()"
      ]
    }
  ],
  "metadata": {
    "kernelspec": {
      "display_name": "Python 3",
      "language": "python",
      "name": "python3"
    },
    "language_info": {
      "name": "python",
      "version": "3.10",
      "mimetype": "text/x-python",
      "codemirror_mode": {
        "name": "ipython",
        "version": 3
      },
      "pygments_lexer": "ipython3",
      "nbconvert_exporter": "python",
      "file_extension": ".py"
    }
  },
  "nbformat": 4,
  "nbformat_minor": 5
}