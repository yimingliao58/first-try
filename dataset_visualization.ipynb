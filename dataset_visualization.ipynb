{
 "cells": [
  {
   "cell_type": "markdown",
   "metadata": {},
   "source": [
    "# 1Xuanpeng Merge Dataset Exploration\n",
    "\n",
    "This notebook loads the provided dataset, performs lightweight cleaning, and produces a few visualizations to help you reason about which features may be useful for further analysis or modeling."
   ]
  },
  {
   "cell_type": "code",
   "execution_count": null,
   "metadata": {},
   "outputs": [],
   "source": [
    "import pandas as pd\n",
    "import numpy as np\n",
    "import matplotlib.pyplot as plt\n",
    "import seaborn as sns\n",
    "from pathlib import Path\n",
    "from matplotlib.patches import Patch, Rectangle\n",
    "\n",
    "sns.set_theme(style=\"ticks\", context=\"talk\")"
   ]
  },
  {
   "cell_type": "code",
   "execution_count": null,
   "metadata": {},
   "outputs": [],
   "source": [
    "data_path = Path('1Xuanpeng_Merge.csv')\n",
    "df_raw = pd.read_csv(data_path)\n",
    "# Strip whitespace from column names and drop any empty trailing columns\n",
    "df_raw.columns = [col.strip() for col in df_raw.columns]\n",
    "df = df_raw[[col for col in df_raw.columns if col]]\n",
    "\n",
    "# Convert numeric-looking columns\n",
    "numeric_cols = df.columns\n",
    "df[numeric_cols] = df[numeric_cols].apply(pd.to_numeric, errors='coerce')\n",
    "\n",
    "# Use elapsed time in seconds for plotting clarity\n",
    "df['elapsed_time_s'] = df['time'] - df['time'].iloc[0]\n",
    "\n",
    "df.head()"
   ]
  },
  {
   "cell_type": "code",
   "execution_count": null,
   "metadata": {},
   "outputs": [],
   "source": [
    "# Derive helper fields for visualization\n",
    "df['relative_speed'] = df['Mspeed'] - df['Rspeed']\n",
    "\n",
    "# Merge moment when the lateral deviation (Dis2Road) is approximately zero\n",
    "merge_idx = df['Dis2Road'].abs().idxmin()\n",
    "merge_time = df.loc[merge_idx, 'elapsed_time_s']\n",
    "\n",
    "# Convert GPS coordinates to a local tangent-plane frame (meters)\n",
    "ref_lat_candidates = pd.concat([df['Rlat'], df['Mlat']], ignore_index=True).dropna()\n",
    "ref_lon_candidates = pd.concat([df['Rlon'], df['Mlon']], ignore_index=True).dropna()\n",
    "ref_lat = ref_lat_candidates.mean() if not ref_lat_candidates.empty else 0.0\n",
    "ref_lon = ref_lon_candidates.mean() if not ref_lon_candidates.empty else 0.0\n",
    "earth_radius_m = 6_371_000\n",
    "lat0 = np.radians(ref_lat)\n",
    "lon0 = np.radians(ref_lon)\n",
    "\n",
    "def latlon_to_local_xy(lat_series, lon_series):\n",
    "    lat_rad = np.radians(lat_series)\n",
    "    lon_rad = np.radians(lon_series)\n",
    "    x = (lon_rad - lon0) * earth_radius_m * np.cos(lat0)\n",
    "    y = (lat_rad - lat0) * earth_radius_m\n",
    "    return x, y\n",
    "\n",
    "df['R_x_m'], df['R_y_m'] = latlon_to_local_xy(df['Rlat'], df['Rlon'])\n",
    "df['M_x_m'], df['M_y_m'] = latlon_to_local_xy(df['Mlat'], df['Mlon'])\n",
    "\n",
    "# Estimate roadway orientation for contextual overlays\n",
    "valid_ref = df[['R_x_m', 'R_y_m']].dropna().to_numpy()\n",
    "if len(valid_ref) > 1:\n",
    "    deltas = np.diff(valid_ref, axis=0)\n",
    "    norms = np.linalg.norm(deltas, axis=1)\n",
    "    forward_vectors = deltas[norms > 0] / norms[norms > 0][:, None]\n",
    "    if len(forward_vectors) > 0:\n",
    "        forward_unit = forward_vectors.mean(axis=0)\n",
    "        forward_unit /= np.linalg.norm(forward_unit)\n",
    "        if not np.all(np.isfinite(forward_unit)):\n",
    "            forward_unit = np.array([1.0, 0.0])\n",
    "    else:\n",
    "        forward_unit = np.array([1.0, 0.0])\n",
    "else:\n",
    "    forward_unit = np.array([1.0, 0.0])\n",
    "\n",
    "lateral_unit = np.array([-forward_unit[1], forward_unit[0]])\n",
    "lane_width_m = 3.7\n",
    "lane_offset_vec = lateral_unit * lane_width_m / 2\n",
    "merge_point = df.loc[merge_idx, ['M_x_m', 'M_y_m']].to_numpy()\n",
    "merge_heading_deg = np.degrees(np.arctan2(forward_unit[1], forward_unit[0]))\n"
   ]
  },
  {
   "cell_type": "code",
   "execution_count": null,
   "metadata": {},
   "outputs": [],
   "source": [
    "overview = df.describe().T\n",
    "overview[['count', 'mean', 'std', 'min', '25%', '50%', '75%', 'max']]"
   ]
  },
  {
   "cell_type": "code",
   "execution_count": null,
   "metadata": {},
   "outputs": [],
   "source": [
    "missing = df.isna().sum().sort_values(ascending=False)\n",
    "missing = missing[missing > 0]\n",
    "missing.to_frame(name='missing_values')"
   ]
  },
  {
   "cell_type": "markdown",
   "metadata": {},
   "source": [
    "## Vehicle speed comparison\n",
    "\n",
    "Compare the recorded speeds for the reference (R) and merge (M) vehicles over time to understand their relative dynamics, with annotations for the merge moment.\n"
   ]
  },
  {
   "cell_type": "code",
   "execution_count": null,
   "metadata": {},
   "outputs": [],
   "source": [
    "fig, ax = plt.subplots(figsize=(14, 6))\n",
    "ax.plot(df['elapsed_time_s'], df['Rspeed'], label='Reference speed (Rspeed)')\n",
    "ax.plot(df['elapsed_time_s'], df['Mspeed'], label='Merge speed (Mspeed)')\n",
    "ax.plot(df['elapsed_time_s'], df['relative_speed'], label='Relative speed (Mspeed - Rspeed)', linestyle='--', color='tab:green')\n",
    "\n",
    "ax.axvline(merge_time, color='k', linestyle=':', linewidth=2, label='Merge moment (Dis2Road \u2248 0)')\n",
    "pre_color, post_color = 'tab:blue', 'tab:orange'\n",
    "ax.axvspan(df['elapsed_time_s'].min(), merge_time, color=pre_color, alpha=0.12)\n",
    "ax.axvspan(merge_time, df['elapsed_time_s'].max(), color=post_color, alpha=0.12)\n",
    "pre_patch = Patch(facecolor=pre_color, alpha=0.12, label='Pre-merge')\n",
    "post_patch = Patch(facecolor=post_color, alpha=0.12, label='Post-merge')\n",
    "\n",
    "ax.set_xlabel('Elapsed time [s]')\n",
    "ax.set_ylabel('Speed')\n",
    "ax.set_title('Speed profiles with merge context')\n",
    "ax.grid(True, linestyle='--', alpha=0.4)\n",
    "handles, labels = ax.get_legend_handles_labels()\n",
    "handles.extend([pre_patch, post_patch])\n",
    "ax.legend(handles=handles, loc='upper right')\n",
    "\n",
    "plt.show()\n"
   ]
  },
  {
   "cell_type": "markdown",
   "metadata": {},
   "source": [
    "## Trajectory footprints (local frame)\n",
    "\n",
    "Project the GPS trajectories into a local tangent-plane coordinate system and overlay lane boundaries plus the merge zone for added context. Merge vehicle markers are color-coded by speed.\n"
   ]
  },
  {
   "cell_type": "code",
   "execution_count": null,
   "metadata": {},
   "outputs": [],
   "source": [
    "fig, ax = plt.subplots(figsize=(9, 9))\n",
    "ax.plot(df['R_x_m'], df['R_y_m'], color='tab:blue', linewidth=2.0, alpha=0.8, label='Reference trajectory')\n",
    "ax.plot(df['M_x_m'], df['M_y_m'], color='tab:orange', linewidth=1.6, alpha=0.7)\n",
    "scatter = ax.scatter(df['M_x_m'], df['M_y_m'], c=df['Mspeed'], cmap='OrRd', s=35, edgecolor='black', linewidth=0.2, label='Merge trajectory speed')\n",
    "\n",
    "valid_mask = df['R_x_m'].notna() & df['R_y_m'].notna()\n",
    "lane_center = df.loc[valid_mask, ['R_x_m', 'R_y_m']].to_numpy()\n",
    "if len(lane_center) > 0:\n",
    "    lane_left = lane_center + lane_offset_vec\n",
    "    lane_right = lane_center - lane_offset_vec\n",
    "    ax.plot(lane_left[:, 0], lane_left[:, 1], color='dimgray', linestyle='--', linewidth=1.2, label='Lane boundaries')\n",
    "    ax.plot(lane_right[:, 0], lane_right[:, 1], color='dimgray', linestyle='--', linewidth=1.2)\n",
    "\n",
    "merge_zone_length = 20\n",
    "rect_origin = merge_point - forward_unit * (merge_zone_length / 2) - lateral_unit * (lane_width_m / 2)\n",
    "merge_rect = Rectangle(rect_origin, merge_zone_length, lane_width_m, angle=merge_heading_deg, facecolor='mediumseagreen', alpha=0.2, label='Merge zone')\n",
    "ax.add_patch(merge_rect)\n",
    "ax.scatter(merge_point[0], merge_point[1], color='mediumseagreen', edgecolor='black', zorder=5, s=80, label='Merge point')\n",
    "\n",
    "ax.set_xlabel('Local X [m]')\n",
    "ax.set_ylabel('Local Y [m]')\n",
    "ax.set_title('Trajectory footprints with lane context')\n",
    "ax.set_aspect('equal', adjustable='box')\n",
    "ax.grid(True, linestyle='--', alpha=0.3)\n",
    "legend_handles, legend_labels = ax.get_legend_handles_labels()\n",
    "ax.legend(legend_handles, legend_labels, loc='best')\n",
    "cbar = fig.colorbar(scatter, ax=ax, fraction=0.046, pad=0.04)\n",
    "cbar.set_label('Merge vehicle speed')\n",
    "\n",
    "plt.show()\n"
   ]
  },
  {
   "cell_type": "markdown",
   "metadata": {},
   "source": [
    "## Acceleration distributions\n",
    "\n",
    "Examine the distribution of acceleration measurements across axes for both vehicles."
   ]
  },
  {
   "cell_type": "code",
   "execution_count": null,
   "metadata": {},
   "outputs": [],
   "source": [
    "acc_cols = ['RaccX', 'RaccY', 'RaccZ', 'MaccX', 'MaccY', 'MaccZ']\n",
    "fig, axes = plt.subplots(2, 3, figsize=(18, 10), sharey=False)\n",
    "for ax, col in zip(axes.flatten(), acc_cols):\n",
    "    sns.histplot(df[col].dropna(), kde=True, ax=ax)\n",
    "    ax.set_title(f'Distribution of {col}')\n",
    "    ax.set_xlabel('Acceleration')\n",
    "plt.tight_layout()\n",
    "plt.show()"
   ]
  },
  {
   "cell_type": "markdown",
   "metadata": {},
   "source": [
    "## Distance-related features\n",
    "\n",
    "Look at the relationships between distance-to-goal features and vehicle speeds."
   ]
  },
  {
   "cell_type": "code",
   "execution_count": null,
   "metadata": {},
   "outputs": [],
   "source": [
    "distance_cols = ['Dis2End', 'Dis2Road', 'Dis2End_M']\n",
    "feature_subset = ['Rspeed', 'Mspeed'] + distance_cols\n",
    "corr = df[feature_subset].corr()\n",
    "plt.figure(figsize=(8, 6))\n",
    "sns.heatmap(corr, annot=True, fmt='.2f', cmap='coolwarm', square=True)\n",
    "plt.title('Correlation between speeds and distance-based features')\n",
    "plt.tight_layout()\n",
    "plt.show()"
   ]
  }
 ],
 "metadata": {
  "kernelspec": {
   "display_name": "Python 3",
   "language": "python",
   "name": "python3"
  },
  "language_info": {
   "name": "python",
   "version": "3.10"
  }
 },
 "nbformat": 4,
 "nbformat_minor": 5
}
