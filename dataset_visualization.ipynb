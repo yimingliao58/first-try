{
 "cells": [
  {
   "cell_type": "markdown",
   "metadata": {},
   "source": [
    "# 1Xuanpeng Merge Dataset Exploration\n",
    "\n",
    "This notebook loads the provided dataset, performs lightweight cleaning, and produces a few visualizations to help you reason about which features may be useful for further analysis or modeling."
   ]
  },
  {
   "cell_type": "code",
   "execution_count": null,
   "metadata": {},
   "outputs": [],
   "source": [
    "import pandas as pd\n",
    "import matplotlib.pyplot as plt\n",
    "import seaborn as sns\n",
    "from pathlib import Path\n",
    "\n",
    "sns.set_theme(style=\"ticks\", context=\"talk\")"
   ]
  },
  {
   "cell_type": "code",
   "execution_count": null,
   "metadata": {},
   "outputs": [],
   "source": [
    "data_path = Path('1Xuanpeng_Merge.csv')\n",
    "df_raw = pd.read_csv(data_path)\n",
    "# Strip whitespace from column names and drop any empty trailing columns\n",
    "df_raw.columns = [col.strip() for col in df_raw.columns]\n",
    "df = df_raw[[col for col in df_raw.columns if col]]\n",
    "\n",
    "# Convert numeric-looking columns\n",
    "numeric_cols = df.columns\n",
    "df[numeric_cols] = df[numeric_cols].apply(pd.to_numeric, errors='coerce')\n",
    "\n",
    "# Use elapsed time in seconds for plotting clarity\n",
    "df['elapsed_time_s'] = df['time'] - df['time'].iloc[0]\n",
    "\n",
    "df.head()"
   ]
  },
  {
   "cell_type": "code",
   "execution_count": null,
   "metadata": {},
   "outputs": [],
   "source": [
    "overview = df.describe().T\n",
    "overview[['count', 'mean', 'std', 'min', '25%', '50%', '75%', 'max']]"
   ]
  },
  {
   "cell_type": "code",
   "execution_count": null,
   "metadata": {},
   "outputs": [],
   "source": [
    "missing = df.isna().sum().sort_values(ascending=False)\n",
    "missing = missing[missing > 0]\n",
    "missing.to_frame(name='missing_values')"
   ]
  },
  {
   "cell_type": "markdown",
   "metadata": {},
   "source": [
    "## Vehicle speed comparison\n",
    "\n",
    "Compare the recorded speeds for the reference (R) and merge (M) vehicles over time to understand their relative dynamics."
   ]
  },
  {
   "cell_type": "code",
   "execution_count": null,
   "metadata": {},
   "outputs": [],
   "source": [
    "fig, ax = plt.subplots(figsize=(14, 6))\n",
    "ax.plot(df['elapsed_time_s'], df['Rspeed'], label='Reference speed (Rspeed)')\n",
    "ax.plot(df['elapsed_time_s'], df['Mspeed'], label='Merge speed (Mspeed)')\n",
    "ax.set_xlabel('Elapsed time [s]')\n",
    "ax.set_ylabel('Speed')\n",
    "ax.set_title('Speed profiles over time')\n",
    "ax.legend()\n",
    "ax.grid(True, linestyle='--', alpha=0.4)\n",
    "plt.show()"
   ]
  },
  {
   "cell_type": "markdown",
   "metadata": {},
   "source": [
    "## Trajectory footprints\n",
    "\n",
    "Plot the latitude/longitude traces to see how both vehicles move through space." 
   ]
  },
  {
   "cell_type": "code",
   "execution_count": null,
   "metadata": {},
   "outputs": [],
   "source": [
    "fig, ax = plt.subplots(figsize=(8, 8))\n",
    "ax.plot(df['Rlon'], df['Rlat'], label='Reference trajectory', alpha=0.8)\n",
    "ax.plot(df['Mlon'], df['Mlat'], label='Merge trajectory', alpha=0.8)\n",
    "ax.set_xlabel('Longitude')\n",
    "ax.set_ylabel('Latitude')\n",
    "ax.set_title('Spatial trajectories')\n",
    "ax.legend()\n",
    "ax.axis('equal')\n",
    "ax.grid(True, linestyle='--', alpha=0.4)\n",
    "plt.show()"
   ]
  },
  {
   "cell_type": "markdown",
   "metadata": {},
   "source": [
    "## Acceleration distributions\n",
    "\n",
    "Examine the distribution of acceleration measurements across axes for both vehicles." 
   ]
  },
  {
   "cell_type": "code",
   "execution_count": null,
   "metadata": {},
   "outputs": [],
   "source": [
    "acc_cols = ['RaccX', 'RaccY', 'RaccZ', 'MaccX', 'MaccY', 'MaccZ']\n",
    "fig, axes = plt.subplots(2, 3, figsize=(18, 10), sharey=False)\n",
    "for ax, col in zip(axes.flatten(), acc_cols):\n",
    "    sns.histplot(df[col].dropna(), kde=True, ax=ax)\n",
    "    ax.set_title(f'Distribution of {col}')\n",
    "    ax.set_xlabel('Acceleration')\n",
    "plt.tight_layout()\n",
    "plt.show()"
   ]
  },
  {
   "cell_type": "markdown",
   "metadata": {},
   "source": [
    "## Distance-related features\n",
    "\n",
    "Look at the relationships between distance-to-goal features and vehicle speeds." 
   ]
  },
  {
   "cell_type": "code",
   "execution_count": null,
   "metadata": {},
   "outputs": [],
   "source": [
    "distance_cols = ['Dis2End', 'Dis2Road', 'Dis2End_M']\n",
    "feature_subset = ['Rspeed', 'Mspeed'] + distance_cols\n",
    "corr = df[feature_subset].corr()\n",
    "plt.figure(figsize=(8, 6))\n",
    "sns.heatmap(corr, annot=True, fmt='.2f', cmap='coolwarm', square=True)\n",
    "plt.title('Correlation between speeds and distance-based features')\n",
    "plt.tight_layout()\n",
    "plt.show()"
   ]
  }
 ],
 "metadata": {
  "kernelspec": {
   "display_name": "Python 3",
   "language": "python",
   "name": "python3"
  },
  "language_info": {
   "name": "python",
   "version": "3.10"
  }
 },
 "nbformat": 4,
 "nbformat_minor": 5
}
